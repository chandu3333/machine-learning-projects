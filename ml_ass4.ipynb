{
 "cells": [
  {
   "cell_type": "code",
   "execution_count": 45,
   "id": "227a98fe",
   "metadata": {},
   "outputs": [],
   "source": [
    "import random as rd\n",
    "import pandas as pd\n",
    "import numpy as np\n",
    "import regex as re\n",
    "import matplotlib.pyplot as plt\n",
    "import seaborn as sns\n",
    "import scipy as s\n",
    "import scipy.stats as ss\n",
    "import warnings \n",
    "warnings.filterwarnings('ignore')\n",
    "import nltk\n",
    "from nltk.tokenize import sent_tokenize,word_tokenize\n",
    "from nltk.corpus import stopwords\n",
    "from nltk.stem import PorterStemmer,LancasterStemmer,SnowballStemmer,WordNetLemmatizer\n",
    "from sklearn.feature_extraction.text import CountVectorizer\n",
    "from sklearn.feature_extraction.text import TfidfVectorizer\n",
    "from sklearn.preprocessing import LabelEncoder,OneHotEncoder\n",
    "import emoji\n",
    "from textblob import TextBlob\n",
    "import cv2\n",
    "import os"
   ]
  },
  {
   "cell_type": "code",
   "execution_count": 46,
   "id": "9e6a530d",
   "metadata": {},
   "outputs": [
    {
     "data": {
      "text/plain": [
       "'C:\\\\Users\\\\HP\\\\Downloads\\\\train'"
      ]
     },
     "execution_count": 46,
     "metadata": {},
     "output_type": "execute_result"
    }
   ],
   "source": [
    "os.getcwd()"
   ]
  },
  {
   "cell_type": "markdown",
   "id": "5f4d6994",
   "metadata": {},
   "source": [
    "# CREATING FOLDERS"
   ]
  },
  {
   "cell_type": "code",
   "execution_count": 47,
   "id": "9a59383a",
   "metadata": {},
   "outputs": [],
   "source": [
    "for i in [\"cats\",\"dogs\"]:\n",
    "    os.mkdir(r\"C:\\Users\\HP\\\\Desktop\\168\\day-7\\\\\"+i)"
   ]
  },
  {
   "cell_type": "code",
   "execution_count": 48,
   "id": "8ebcdccc",
   "metadata": {},
   "outputs": [],
   "source": [
    "os.chdir(r\"C:\\Users\\HP\\Downloads\\train\")"
   ]
  },
  {
   "cell_type": "code",
   "execution_count": 49,
   "id": "16b44a42",
   "metadata": {},
   "outputs": [
    {
     "data": {
      "text/plain": [
       "'C:\\\\Users\\\\HP\\\\Downloads\\\\train'"
      ]
     },
     "execution_count": 49,
     "metadata": {},
     "output_type": "execute_result"
    }
   ],
   "source": [
    "os.getcwd()"
   ]
  },
  {
   "cell_type": "code",
   "execution_count": 50,
   "id": "eb604a9d",
   "metadata": {},
   "outputs": [],
   "source": [
    "list_ = os.listdir()"
   ]
  },
  {
   "cell_type": "code",
   "execution_count": 51,
   "id": "e9687b3e",
   "metadata": {},
   "outputs": [],
   "source": [
    "cat=[]\n",
    "dog=[]\n",
    "for i in list_:\n",
    "    if \"cat\" in i:\n",
    "        cat.append(i)\n",
    "    else:\n",
    "        dog.append(i)"
   ]
  },
  {
   "cell_type": "markdown",
   "id": "f98be9fa",
   "metadata": {},
   "source": [
    "# NORMAL CONVERRTION"
   ]
  },
  {
   "cell_type": "code",
   "execution_count": 9,
   "id": "99c4254d",
   "metadata": {},
   "outputs": [],
   "source": [
    "l1=[]\n",
    "for y in cat:\n",
    "    img=cv2.imread(y)\n",
    "    l1.append(img.flatten())\n",
    "a=pd.DataFrame({\"arrays\":l1,\"labels\":\"Cat\"})    "
   ]
  },
  {
   "cell_type": "code",
   "execution_count": 10,
   "id": "b37b7ded",
   "metadata": {},
   "outputs": [],
   "source": [
    "l2=[]\n",
    "for x in dog:\n",
    "    img2=cv2.imread(x)\n",
    "    l2.append(img2.flatten())\n",
    "b=pd.DataFrame({\"arrays\":l2,\"labels\":\"Dog\"})"
   ]
  },
  {
   "cell_type": "code",
   "execution_count": 12,
   "id": "aca7fe25",
   "metadata": {},
   "outputs": [],
   "source": [
    "final=pd.concat([a,b])"
   ]
  },
  {
   "cell_type": "code",
   "execution_count": 13,
   "id": "b2da0572",
   "metadata": {},
   "outputs": [
    {
     "data": {
      "text/html": [
       "<div>\n",
       "<style scoped>\n",
       "    .dataframe tbody tr th:only-of-type {\n",
       "        vertical-align: middle;\n",
       "    }\n",
       "\n",
       "    .dataframe tbody tr th {\n",
       "        vertical-align: top;\n",
       "    }\n",
       "\n",
       "    .dataframe thead th {\n",
       "        text-align: right;\n",
       "    }\n",
       "</style>\n",
       "<table border=\"1\" class=\"dataframe\">\n",
       "  <thead>\n",
       "    <tr style=\"text-align: right;\">\n",
       "      <th></th>\n",
       "      <th>arrays</th>\n",
       "      <th>labels</th>\n",
       "    </tr>\n",
       "  </thead>\n",
       "  <tbody>\n",
       "    <tr>\n",
       "      <th>0</th>\n",
       "      <td>[87, 164, 203, 87, 164, 203, 88, 165, 204, 90,...</td>\n",
       "      <td>Cat</td>\n",
       "    </tr>\n",
       "    <tr>\n",
       "      <th>1</th>\n",
       "      <td>[40, 44, 39, 40, 44, 39, 43, 44, 40, 44, 45, 4...</td>\n",
       "      <td>Cat</td>\n",
       "    </tr>\n",
       "    <tr>\n",
       "      <th>2</th>\n",
       "      <td>[39, 30, 26, 37, 28, 24, 32, 23, 19, 26, 17, 1...</td>\n",
       "      <td>Cat</td>\n",
       "    </tr>\n",
       "    <tr>\n",
       "      <th>3</th>\n",
       "      <td>[220, 225, 224, 219, 224, 223, 219, 224, 223, ...</td>\n",
       "      <td>Cat</td>\n",
       "    </tr>\n",
       "    <tr>\n",
       "      <th>4</th>\n",
       "      <td>[75, 112, 140, 75, 112, 140, 79, 116, 144, 81,...</td>\n",
       "      <td>Cat</td>\n",
       "    </tr>\n",
       "    <tr>\n",
       "      <th>...</th>\n",
       "      <td>...</td>\n",
       "      <td>...</td>\n",
       "    </tr>\n",
       "    <tr>\n",
       "      <th>12495</th>\n",
       "      <td>[106, 143, 147, 106, 143, 147, 107, 144, 148, ...</td>\n",
       "      <td>Dog</td>\n",
       "    </tr>\n",
       "    <tr>\n",
       "      <th>12496</th>\n",
       "      <td>[85, 114, 145, 94, 123, 154, 39, 69, 98, 22, 5...</td>\n",
       "      <td>Dog</td>\n",
       "    </tr>\n",
       "    <tr>\n",
       "      <th>12497</th>\n",
       "      <td>[38, 41, 46, 48, 51, 56, 55, 58, 63, 53, 56, 6...</td>\n",
       "      <td>Dog</td>\n",
       "    </tr>\n",
       "    <tr>\n",
       "      <th>12498</th>\n",
       "      <td>[251, 254, 252, 251, 254, 252, 253, 254, 252, ...</td>\n",
       "      <td>Dog</td>\n",
       "    </tr>\n",
       "    <tr>\n",
       "      <th>12499</th>\n",
       "      <td>[228, 238, 245, 230, 240, 247, 232, 242, 249, ...</td>\n",
       "      <td>Dog</td>\n",
       "    </tr>\n",
       "  </tbody>\n",
       "</table>\n",
       "<p>25000 rows × 2 columns</p>\n",
       "</div>"
      ],
      "text/plain": [
       "                                                  arrays labels\n",
       "0      [87, 164, 203, 87, 164, 203, 88, 165, 204, 90,...    Cat\n",
       "1      [40, 44, 39, 40, 44, 39, 43, 44, 40, 44, 45, 4...    Cat\n",
       "2      [39, 30, 26, 37, 28, 24, 32, 23, 19, 26, 17, 1...    Cat\n",
       "3      [220, 225, 224, 219, 224, 223, 219, 224, 223, ...    Cat\n",
       "4      [75, 112, 140, 75, 112, 140, 79, 116, 144, 81,...    Cat\n",
       "...                                                  ...    ...\n",
       "12495  [106, 143, 147, 106, 143, 147, 107, 144, 148, ...    Dog\n",
       "12496  [85, 114, 145, 94, 123, 154, 39, 69, 98, 22, 5...    Dog\n",
       "12497  [38, 41, 46, 48, 51, 56, 55, 58, 63, 53, 56, 6...    Dog\n",
       "12498  [251, 254, 252, 251, 254, 252, 253, 254, 252, ...    Dog\n",
       "12499  [228, 238, 245, 230, 240, 247, 232, 242, 249, ...    Dog\n",
       "\n",
       "[25000 rows x 2 columns]"
      ]
     },
     "execution_count": 13,
     "metadata": {},
     "output_type": "execute_result"
    }
   ],
   "source": [
    "final"
   ]
  },
  {
   "cell_type": "markdown",
   "id": "18c17077",
   "metadata": {},
   "source": [
    "# RESIZED IMAGE CONVERTION"
   ]
  },
  {
   "cell_type": "code",
   "execution_count": 20,
   "id": "8d004f3f",
   "metadata": {},
   "outputs": [],
   "source": [
    "l3=[]\n",
    "for x in dog:\n",
    "    img3=cv2.imread(x,0)\n",
    "    r_s=cv2.resize(img3,(100,100))\n",
    "    l3.append(r_s.flatten())\n",
    "b_rs=pd.DataFrame({\"arrays\":l3,\"labels\":\"Dog\"})"
   ]
  },
  {
   "cell_type": "code",
   "execution_count": 26,
   "id": "6fbd0c0c",
   "metadata": {},
   "outputs": [],
   "source": [
    "l4=[]\n",
    "for y in cat:\n",
    "    img3=cv2.imread(y,0)\n",
    "    r_s2=cv2.resize(img3,(100,100))\n",
    "    l4.append(r_s2.flatten())\n",
    "a_rs=pd.DataFrame({\"arrays\":l3,\"labels\":\"cat\"})"
   ]
  },
  {
   "cell_type": "code",
   "execution_count": 27,
   "id": "b2858387",
   "metadata": {},
   "outputs": [],
   "source": [
    "resize = pd.concat([a_rs,b_rs])"
   ]
  },
  {
   "cell_type": "code",
   "execution_count": 28,
   "id": "898336fb",
   "metadata": {},
   "outputs": [
    {
     "data": {
      "text/html": [
       "<div>\n",
       "<style scoped>\n",
       "    .dataframe tbody tr th:only-of-type {\n",
       "        vertical-align: middle;\n",
       "    }\n",
       "\n",
       "    .dataframe tbody tr th {\n",
       "        vertical-align: top;\n",
       "    }\n",
       "\n",
       "    .dataframe thead th {\n",
       "        text-align: right;\n",
       "    }\n",
       "</style>\n",
       "<table border=\"1\" class=\"dataframe\">\n",
       "  <thead>\n",
       "    <tr style=\"text-align: right;\">\n",
       "      <th></th>\n",
       "      <th>arrays</th>\n",
       "      <th>labels</th>\n",
       "    </tr>\n",
       "  </thead>\n",
       "  <tbody>\n",
       "    <tr>\n",
       "      <th>0</th>\n",
       "      <td>[119, 109, 152, 160, 160, 165, 130, 134, 136, ...</td>\n",
       "      <td>cat</td>\n",
       "    </tr>\n",
       "    <tr>\n",
       "      <th>1</th>\n",
       "      <td>[146, 120, 124, 132, 101, 105, 53, 96, 112, 78...</td>\n",
       "      <td>cat</td>\n",
       "    </tr>\n",
       "    <tr>\n",
       "      <th>2</th>\n",
       "      <td>[118, 109, 93, 98, 101, 123, 125, 116, 120, 12...</td>\n",
       "      <td>cat</td>\n",
       "    </tr>\n",
       "    <tr>\n",
       "      <th>3</th>\n",
       "      <td>[185, 184, 186, 183, 183, 181, 182, 183, 184, ...</td>\n",
       "      <td>cat</td>\n",
       "    </tr>\n",
       "    <tr>\n",
       "      <th>4</th>\n",
       "      <td>[16, 7, 7, 7, 23, 52, 63, 45, 77, 40, 82, 59, ...</td>\n",
       "      <td>cat</td>\n",
       "    </tr>\n",
       "    <tr>\n",
       "      <th>...</th>\n",
       "      <td>...</td>\n",
       "      <td>...</td>\n",
       "    </tr>\n",
       "    <tr>\n",
       "      <th>12495</th>\n",
       "      <td>[140, 143, 142, 145, 146, 147, 148, 149, 148, ...</td>\n",
       "      <td>Dog</td>\n",
       "    </tr>\n",
       "    <tr>\n",
       "      <th>12496</th>\n",
       "      <td>[117, 78, 102, 83, 101, 113, 69, 85, 86, 86, 7...</td>\n",
       "      <td>Dog</td>\n",
       "    </tr>\n",
       "    <tr>\n",
       "      <th>12497</th>\n",
       "      <td>[42, 35, 47, 58, 65, 46, 51, 57, 58, 40, 44, 4...</td>\n",
       "      <td>Dog</td>\n",
       "    </tr>\n",
       "    <tr>\n",
       "      <th>12498</th>\n",
       "      <td>[254, 251, 245, 234, 224, 207, 189, 144, 112, ...</td>\n",
       "      <td>Dog</td>\n",
       "    </tr>\n",
       "    <tr>\n",
       "      <th>12499</th>\n",
       "      <td>[240, 241, 243, 243, 242, 243, 247, 252, 247, ...</td>\n",
       "      <td>Dog</td>\n",
       "    </tr>\n",
       "  </tbody>\n",
       "</table>\n",
       "<p>25000 rows × 2 columns</p>\n",
       "</div>"
      ],
      "text/plain": [
       "                                                  arrays labels\n",
       "0      [119, 109, 152, 160, 160, 165, 130, 134, 136, ...    cat\n",
       "1      [146, 120, 124, 132, 101, 105, 53, 96, 112, 78...    cat\n",
       "2      [118, 109, 93, 98, 101, 123, 125, 116, 120, 12...    cat\n",
       "3      [185, 184, 186, 183, 183, 181, 182, 183, 184, ...    cat\n",
       "4      [16, 7, 7, 7, 23, 52, 63, 45, 77, 40, 82, 59, ...    cat\n",
       "...                                                  ...    ...\n",
       "12495  [140, 143, 142, 145, 146, 147, 148, 149, 148, ...    Dog\n",
       "12496  [117, 78, 102, 83, 101, 113, 69, 85, 86, 86, 7...    Dog\n",
       "12497  [42, 35, 47, 58, 65, 46, 51, 57, 58, 40, 44, 4...    Dog\n",
       "12498  [254, 251, 245, 234, 224, 207, 189, 144, 112, ...    Dog\n",
       "12499  [240, 241, 243, 243, 242, 243, 247, 252, 247, ...    Dog\n",
       "\n",
       "[25000 rows x 2 columns]"
      ]
     },
     "execution_count": 28,
     "metadata": {},
     "output_type": "execute_result"
    }
   ],
   "source": [
    "resize"
   ]
  },
  {
   "cell_type": "markdown",
   "id": "57744842",
   "metadata": {},
   "source": [
    "# SEPARETED IMAGES WITH SEPARETE FOLDERS"
   ]
  },
  {
   "cell_type": "code",
   "execution_count": 52,
   "id": "90f6ae40",
   "metadata": {},
   "outputs": [],
   "source": [
    "y=0\n",
    "for i in list_:\n",
    "    y=y+1\n",
    "    \n",
    "    if i.startswith(\"cat\"):\n",
    "        img=cv2.imread(r\"C:\\Users\\HP\\Downloads\\train\\\\\"+i)\n",
    "        cv2.imwrite(r\"C:\\Users\\HP\\Desktop\\168\\day-7\\cats\\\\{}.jpg\".format(y),img)\n",
    "    else:\n",
    "        img1=cv2.imread(r\"C:\\Users\\HP\\Downloads\\train\\\\\"+i)\n",
    "        cv2.imwrite(r\"C:\\Users\\HP\\\\Desktop\\168\\day-7\\dogs\\\\{}.jpg\".format(y),img1)"
   ]
  }
 ],
 "metadata": {
  "kernelspec": {
   "display_name": "Python 3 (ipykernel)",
   "language": "python",
   "name": "python3"
  },
  "language_info": {
   "codemirror_mode": {
    "name": "ipython",
    "version": 3
   },
   "file_extension": ".py",
   "mimetype": "text/x-python",
   "name": "python",
   "nbconvert_exporter": "python",
   "pygments_lexer": "ipython3",
   "version": "3.9.12"
  }
 },
 "nbformat": 4,
 "nbformat_minor": 5
}
