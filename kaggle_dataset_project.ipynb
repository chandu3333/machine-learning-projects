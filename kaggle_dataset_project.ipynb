{
 "cells": [
  {
   "cell_type": "markdown",
   "id": "4d3af4bb",
   "metadata": {},
   "source": [
    "## IMPORTING ALL THE LIBRARIES"
   ]
  },
  {
   "cell_type": "code",
   "execution_count": 1,
   "id": "ced82da2",
   "metadata": {},
   "outputs": [],
   "source": [
    "import pandas as pd\n",
    "import matplotlib.pyplot as plt\n",
    "import seaborn as sns\n",
    "from sklearn.model_selection import train_test_split\n",
    "from sklearn.preprocessing import OneHotEncoder,LabelEncoder\n",
    "from sklearn.impute import SimpleImputer\n",
    "from imblearn.over_sampling import RandomOverSampler\n",
    "from sklearn.neighbors import KNeighborsClassifier\n",
    "from sklearn.naive_bayes import GaussianNB,MultinomialNB,CategoricalNB\n",
    "from sklearn.metrics import accuracy_score\n",
    "import warnings\n",
    "warnings.filterwarnings('ignore')\n",
    "from pickle import dump"
   ]
  },
  {
   "cell_type": "markdown",
   "id": "30332bb3",
   "metadata": {},
   "source": [
    "## DATASET IMPORTING"
   ]
  },
  {
   "cell_type": "code",
   "execution_count": 2,
   "id": "2a2ca14f",
   "metadata": {},
   "outputs": [],
   "source": [
    "data = pd.read_csv(r\"C:\\Users\\HP\\Desktop\\Placement_Data_Full_Class.csv\")"
   ]
  },
  {
   "cell_type": "code",
   "execution_count": 3,
   "id": "fb8905c6",
   "metadata": {},
   "outputs": [],
   "source": [
    "data = data.drop(['sl_no'],axis=1)"
   ]
  },
  {
   "cell_type": "code",
   "execution_count": 4,
   "id": "eab6646d",
   "metadata": {},
   "outputs": [
    {
     "data": {
      "text/html": [
       "<div>\n",
       "<style scoped>\n",
       "    .dataframe tbody tr th:only-of-type {\n",
       "        vertical-align: middle;\n",
       "    }\n",
       "\n",
       "    .dataframe tbody tr th {\n",
       "        vertical-align: top;\n",
       "    }\n",
       "\n",
       "    .dataframe thead th {\n",
       "        text-align: right;\n",
       "    }\n",
       "</style>\n",
       "<table border=\"1\" class=\"dataframe\">\n",
       "  <thead>\n",
       "    <tr style=\"text-align: right;\">\n",
       "      <th></th>\n",
       "      <th>gender</th>\n",
       "      <th>ssc_p</th>\n",
       "      <th>ssc_b</th>\n",
       "      <th>hsc_p</th>\n",
       "      <th>hsc_b</th>\n",
       "      <th>hsc_s</th>\n",
       "      <th>degree_p</th>\n",
       "      <th>degree_t</th>\n",
       "      <th>workex</th>\n",
       "      <th>etest_p</th>\n",
       "      <th>specialisation</th>\n",
       "      <th>mba_p</th>\n",
       "      <th>status</th>\n",
       "      <th>salary</th>\n",
       "    </tr>\n",
       "  </thead>\n",
       "  <tbody>\n",
       "    <tr>\n",
       "      <th>0</th>\n",
       "      <td>M</td>\n",
       "      <td>67.00</td>\n",
       "      <td>Others</td>\n",
       "      <td>91.00</td>\n",
       "      <td>Others</td>\n",
       "      <td>Commerce</td>\n",
       "      <td>58.00</td>\n",
       "      <td>Sci&amp;Tech</td>\n",
       "      <td>No</td>\n",
       "      <td>55.0</td>\n",
       "      <td>Mkt&amp;HR</td>\n",
       "      <td>58.80</td>\n",
       "      <td>Placed</td>\n",
       "      <td>270000.0</td>\n",
       "    </tr>\n",
       "    <tr>\n",
       "      <th>1</th>\n",
       "      <td>M</td>\n",
       "      <td>79.33</td>\n",
       "      <td>Central</td>\n",
       "      <td>78.33</td>\n",
       "      <td>Others</td>\n",
       "      <td>Science</td>\n",
       "      <td>77.48</td>\n",
       "      <td>Sci&amp;Tech</td>\n",
       "      <td>Yes</td>\n",
       "      <td>86.5</td>\n",
       "      <td>Mkt&amp;Fin</td>\n",
       "      <td>66.28</td>\n",
       "      <td>Placed</td>\n",
       "      <td>200000.0</td>\n",
       "    </tr>\n",
       "    <tr>\n",
       "      <th>2</th>\n",
       "      <td>M</td>\n",
       "      <td>65.00</td>\n",
       "      <td>Central</td>\n",
       "      <td>68.00</td>\n",
       "      <td>Central</td>\n",
       "      <td>Arts</td>\n",
       "      <td>64.00</td>\n",
       "      <td>Comm&amp;Mgmt</td>\n",
       "      <td>No</td>\n",
       "      <td>75.0</td>\n",
       "      <td>Mkt&amp;Fin</td>\n",
       "      <td>57.80</td>\n",
       "      <td>Placed</td>\n",
       "      <td>250000.0</td>\n",
       "    </tr>\n",
       "    <tr>\n",
       "      <th>3</th>\n",
       "      <td>M</td>\n",
       "      <td>56.00</td>\n",
       "      <td>Central</td>\n",
       "      <td>52.00</td>\n",
       "      <td>Central</td>\n",
       "      <td>Science</td>\n",
       "      <td>52.00</td>\n",
       "      <td>Sci&amp;Tech</td>\n",
       "      <td>No</td>\n",
       "      <td>66.0</td>\n",
       "      <td>Mkt&amp;HR</td>\n",
       "      <td>59.43</td>\n",
       "      <td>Not Placed</td>\n",
       "      <td>NaN</td>\n",
       "    </tr>\n",
       "    <tr>\n",
       "      <th>4</th>\n",
       "      <td>M</td>\n",
       "      <td>85.80</td>\n",
       "      <td>Central</td>\n",
       "      <td>73.60</td>\n",
       "      <td>Central</td>\n",
       "      <td>Commerce</td>\n",
       "      <td>73.30</td>\n",
       "      <td>Comm&amp;Mgmt</td>\n",
       "      <td>No</td>\n",
       "      <td>96.8</td>\n",
       "      <td>Mkt&amp;Fin</td>\n",
       "      <td>55.50</td>\n",
       "      <td>Placed</td>\n",
       "      <td>425000.0</td>\n",
       "    </tr>\n",
       "  </tbody>\n",
       "</table>\n",
       "</div>"
      ],
      "text/plain": [
       "  gender  ssc_p    ssc_b  hsc_p    hsc_b     hsc_s  degree_p   degree_t  \\\n",
       "0      M  67.00   Others  91.00   Others  Commerce     58.00   Sci&Tech   \n",
       "1      M  79.33  Central  78.33   Others   Science     77.48   Sci&Tech   \n",
       "2      M  65.00  Central  68.00  Central      Arts     64.00  Comm&Mgmt   \n",
       "3      M  56.00  Central  52.00  Central   Science     52.00   Sci&Tech   \n",
       "4      M  85.80  Central  73.60  Central  Commerce     73.30  Comm&Mgmt   \n",
       "\n",
       "  workex  etest_p specialisation  mba_p      status    salary  \n",
       "0     No     55.0         Mkt&HR  58.80      Placed  270000.0  \n",
       "1    Yes     86.5        Mkt&Fin  66.28      Placed  200000.0  \n",
       "2     No     75.0        Mkt&Fin  57.80      Placed  250000.0  \n",
       "3     No     66.0         Mkt&HR  59.43  Not Placed       NaN  \n",
       "4     No     96.8        Mkt&Fin  55.50      Placed  425000.0  "
      ]
     },
     "execution_count": 4,
     "metadata": {},
     "output_type": "execute_result"
    }
   ],
   "source": [
    "data.head()"
   ]
  },
  {
   "cell_type": "markdown",
   "id": "7898217a",
   "metadata": {},
   "source": [
    "## EXPLONETORY DATA ANALYSIS"
   ]
  },
  {
   "cell_type": "code",
   "execution_count": 5,
   "id": "048cbe08",
   "metadata": {},
   "outputs": [
    {
     "name": "stdout",
     "output_type": "stream",
     "text": [
      "<class 'pandas.core.frame.DataFrame'>\n",
      "RangeIndex: 215 entries, 0 to 214\n",
      "Data columns (total 14 columns):\n",
      " #   Column          Non-Null Count  Dtype  \n",
      "---  ------          --------------  -----  \n",
      " 0   gender          215 non-null    object \n",
      " 1   ssc_p           215 non-null    float64\n",
      " 2   ssc_b           215 non-null    object \n",
      " 3   hsc_p           215 non-null    float64\n",
      " 4   hsc_b           215 non-null    object \n",
      " 5   hsc_s           215 non-null    object \n",
      " 6   degree_p        215 non-null    float64\n",
      " 7   degree_t        215 non-null    object \n",
      " 8   workex          215 non-null    object \n",
      " 9   etest_p         215 non-null    float64\n",
      " 10  specialisation  215 non-null    object \n",
      " 11  mba_p           215 non-null    float64\n",
      " 12  status          215 non-null    object \n",
      " 13  salary          148 non-null    float64\n",
      "dtypes: float64(6), object(8)\n",
      "memory usage: 23.6+ KB\n"
     ]
    }
   ],
   "source": [
    "data.info()"
   ]
  },
  {
   "cell_type": "markdown",
   "id": "cd83bfff",
   "metadata": {},
   "source": [
    "* in this dataset 6 columns are in float type and 8 columns are in object type"
   ]
  },
  {
   "cell_type": "code",
   "execution_count": 6,
   "id": "4281ad55",
   "metadata": {},
   "outputs": [
    {
     "data": {
      "text/plain": [
       "gender             0\n",
       "ssc_p              0\n",
       "ssc_b              0\n",
       "hsc_p              0\n",
       "hsc_b              0\n",
       "hsc_s              0\n",
       "degree_p           0\n",
       "degree_t           0\n",
       "workex             0\n",
       "etest_p            0\n",
       "specialisation     0\n",
       "mba_p              0\n",
       "status             0\n",
       "salary            67\n",
       "dtype: int64"
      ]
     },
     "execution_count": 6,
     "metadata": {},
     "output_type": "execute_result"
    }
   ],
   "source": [
    "data.isnull().sum()"
   ]
  },
  {
   "cell_type": "markdown",
   "id": "f00c6d87",
   "metadata": {},
   "source": [
    "* in this dataset \"salary\" column contains NULL/NAN values"
   ]
  },
  {
   "cell_type": "code",
   "execution_count": 7,
   "id": "44527b51",
   "metadata": {},
   "outputs": [
    {
     "data": {
      "text/plain": [
       "gender             0.000000\n",
       "ssc_p              0.000000\n",
       "ssc_b              0.000000\n",
       "hsc_p              0.000000\n",
       "hsc_b              0.000000\n",
       "hsc_s              0.000000\n",
       "degree_p           0.000000\n",
       "degree_t           0.000000\n",
       "workex             0.000000\n",
       "etest_p            0.000000\n",
       "specialisation     0.000000\n",
       "mba_p              0.000000\n",
       "status             0.000000\n",
       "salary            31.162791\n",
       "dtype: float64"
      ]
     },
     "execution_count": 7,
     "metadata": {},
     "output_type": "execute_result"
    }
   ],
   "source": [
    "(data.isna().mean()*100)"
   ]
  },
  {
   "cell_type": "code",
   "execution_count": 8,
   "id": "c4d179be",
   "metadata": {},
   "outputs": [],
   "source": [
    "fv = data.drop([\"status\"],axis=1)\n",
    "cv = data[[\"status\"]]"
   ]
  },
  {
   "cell_type": "code",
   "execution_count": 9,
   "id": "125e96e3",
   "metadata": {},
   "outputs": [
    {
     "data": {
      "text/plain": [
       "<AxesSubplot:>"
      ]
     },
     "execution_count": 9,
     "metadata": {},
     "output_type": "execute_result"
    },
    {
     "data": {
      "image/png": "[encoded data removed]",
      "text/plain": [
       "<Figure size 1080x576 with 1 Axes>"
      ]
     },
     "metadata": {
      "needs_background": "light"
     },
     "output_type": "display_data"
    }
   ],
   "source": [
    "ob=[]\n",
    "it=[]\n",
    "for i in fv.columns:\n",
    "    if (fv[i].dtype)==\"O\":\n",
    "        ob.append(i)\n",
    "    else:\n",
    "        it.append(i)\n",
    "plt.figure(figsize=(15,8))\n",
    "fv[it].boxplot()"
   ]
  },
  {
   "cell_type": "markdown",
   "id": "20d2da64",
   "metadata": {},
   "source": [
    "* only \"salary\" column contain outliers"
   ]
  },
  {
   "cell_type": "code",
   "execution_count": 10,
   "id": "6891739b",
   "metadata": {},
   "outputs": [
    {
     "data": {
      "text/plain": [
       "<AxesSubplot:>"
      ]
     },
     "execution_count": 10,
     "metadata": {},
     "output_type": "execute_result"
    },
    {
     "data": {
      "image/png": "[encoded data removed]",
      "text/plain": [
       "<Figure size 1080x432 with 2 Axes>"
      ]
     },
     "metadata": {
      "needs_background": "light"
     },
     "output_type": "display_data"
    }
   ],
   "source": [
    "plt.figure(figsize=(15,6))\n",
    "sns.heatmap(data.corr(),annot=True)"
   ]
  },
  {
   "cell_type": "markdown",
   "id": "45309774",
   "metadata": {},
   "source": [
    "* in this dataset \"degree_p\" & \"ssc_p\" columns and \"hsc_p\" & \"ssc_p\" columns are have some co-relation"
   ]
  },
  {
   "cell_type": "code",
   "execution_count": 11,
   "id": "6892f935",
   "metadata": {},
   "outputs": [
    {
     "data": {
      "text/plain": [
       "<BarContainer object of 2 artists>"
      ]
     },
     "execution_count": 11,
     "metadata": {},
     "output_type": "execute_result"
    },
    {
     "data": {
      "image/png": "[encoded data removed]",
      "text/plain": [
       "<Figure size 432x288 with 1 Axes>"
      ]
     },
     "metadata": {
      "needs_background": "light"
     },
     "output_type": "display_data"
    }
   ],
   "source": [
    "plt.bar(cv['status'].unique(),cv.value_counts().values)"
   ]
  },
  {
   "cell_type": "markdown",
   "id": "d7a56e11",
   "metadata": {},
   "source": [
    "* it is a highley imbalenced dataset we need to balence this"
   ]
  },
  {
   "cell_type": "markdown",
   "id": "86a215de",
   "metadata": {},
   "source": [
    "## SPLITTING DATASET AS Xi's & Yi'S"
   ]
  },
  {
   "cell_type": "code",
   "execution_count": 12,
   "id": "762639b2",
   "metadata": {},
   "outputs": [],
   "source": [
    "x_train,x_test,y_train,y_test = train_test_split(fv,cv,train_size=0.8,stratify=cv,random_state=1)"
   ]
  },
  {
   "cell_type": "code",
   "execution_count": 13,
   "id": "e7c62404",
   "metadata": {},
   "outputs": [],
   "source": [
    "x_train = x_train.reset_index(drop=True)"
   ]
  },
  {
   "cell_type": "code",
   "execution_count": 14,
   "id": "1d4bdeff",
   "metadata": {},
   "outputs": [
    {
     "data": {
      "text/plain": [
       "['gender', 'ssc_b', 'hsc_b', 'hsc_s', 'degree_t', 'workex', 'specialisation']"
      ]
     },
     "execution_count": 14,
     "metadata": {},
     "output_type": "execute_result"
    }
   ],
   "source": [
    "ob"
   ]
  },
  {
   "cell_type": "code",
   "execution_count": 15,
   "id": "07b67010",
   "metadata": {},
   "outputs": [],
   "source": [
    "ohe = OneHotEncoder()\n",
    "oh_d = ohe.fit_transform(x_train[ob]).toarray()\n",
    "tr_d = pd.DataFrame(oh_d)"
   ]
  },
  {
   "cell_type": "code",
   "execution_count": 16,
   "id": "98811cf8",
   "metadata": {},
   "outputs": [],
   "source": [
    "cl_n = ohe.get_feature_names().tolist()"
   ]
  },
  {
   "cell_type": "code",
   "execution_count": 17,
   "id": "c59585b5",
   "metadata": {},
   "outputs": [],
   "source": [
    "x_train[cl_n] = tr_d"
   ]
  },
  {
   "cell_type": "code",
   "execution_count": 18,
   "id": "b8d894c1",
   "metadata": {},
   "outputs": [],
   "source": [
    "x_train = x_train.drop(ob,axis=1)"
   ]
  },
  {
   "cell_type": "code",
   "execution_count": 19,
   "id": "622ee22c",
   "metadata": {},
   "outputs": [],
   "source": [
    "x_tc = x_train.copy()"
   ]
  },
  {
   "cell_type": "code",
   "execution_count": 20,
   "id": "0011d4bf",
   "metadata": {},
   "outputs": [],
   "source": [
    "x_tc['salary'] = x_tc['salary'].fillna(0)"
   ]
  },
  {
   "cell_type": "code",
   "execution_count": 21,
   "id": "051b5075",
   "metadata": {},
   "outputs": [],
   "source": [
    "#si = SimpleImputer()\n",
    "#im_d = si.fit_transform(x_tc)\n",
    "#ip_d = pd.DataFrame(im_d,columns=x_train.columns)"
   ]
  },
  {
   "cell_type": "code",
   "execution_count": 22,
   "id": "d87c14c6",
   "metadata": {},
   "outputs": [],
   "source": [
    "#sns.distplot(ip_d['salary'])\n",
    "#sns.distplot(x_train['salary'])"
   ]
  },
  {
   "cell_type": "code",
   "execution_count": 23,
   "id": "a4ab8a61",
   "metadata": {},
   "outputs": [
    {
     "data": {
      "text/plain": [
       "status    \n",
       "Placed        118\n",
       "Not Placed     54\n",
       "dtype: int64"
      ]
     },
     "execution_count": 23,
     "metadata": {},
     "output_type": "execute_result"
    }
   ],
   "source": [
    "y_train.value_counts()"
   ]
  },
  {
   "cell_type": "code",
   "execution_count": 24,
   "id": "95258251",
   "metadata": {},
   "outputs": [
    {
     "data": {
      "text/plain": [
       "status    \n",
       "Placed        0.548837\n",
       "Not Placed    0.251163\n",
       "dtype: float64"
      ]
     },
     "execution_count": 24,
     "metadata": {},
     "output_type": "execute_result"
    }
   ],
   "source": [
    "y_train.value_counts()/len(cv)"
   ]
  },
  {
   "cell_type": "markdown",
   "id": "a85284f1",
   "metadata": {},
   "source": [
    "* this dataset is highley imbalenced so we need to balence it"
   ]
  },
  {
   "cell_type": "code",
   "execution_count": 25,
   "id": "49889c34",
   "metadata": {},
   "outputs": [],
   "source": [
    "y_train = y_train.reset_index(drop=True)"
   ]
  },
  {
   "cell_type": "code",
   "execution_count": 26,
   "id": "3a7b82d6",
   "metadata": {},
   "outputs": [
    {
     "data": {
      "text/html": [
       "<div>\n",
       "<style scoped>\n",
       "    .dataframe tbody tr th:only-of-type {\n",
       "        vertical-align: middle;\n",
       "    }\n",
       "\n",
       "    .dataframe tbody tr th {\n",
       "        vertical-align: top;\n",
       "    }\n",
       "\n",
       "    .dataframe thead th {\n",
       "        text-align: right;\n",
       "    }\n",
       "</style>\n",
       "<table border=\"1\" class=\"dataframe\">\n",
       "  <thead>\n",
       "    <tr style=\"text-align: right;\">\n",
       "      <th></th>\n",
       "      <th>status</th>\n",
       "    </tr>\n",
       "  </thead>\n",
       "  <tbody>\n",
       "    <tr>\n",
       "      <th>0</th>\n",
       "      <td>Not Placed</td>\n",
       "    </tr>\n",
       "    <tr>\n",
       "      <th>1</th>\n",
       "      <td>Placed</td>\n",
       "    </tr>\n",
       "    <tr>\n",
       "      <th>2</th>\n",
       "      <td>Placed</td>\n",
       "    </tr>\n",
       "    <tr>\n",
       "      <th>3</th>\n",
       "      <td>Placed</td>\n",
       "    </tr>\n",
       "    <tr>\n",
       "      <th>4</th>\n",
       "      <td>Placed</td>\n",
       "    </tr>\n",
       "    <tr>\n",
       "      <th>...</th>\n",
       "      <td>...</td>\n",
       "    </tr>\n",
       "    <tr>\n",
       "      <th>167</th>\n",
       "      <td>Placed</td>\n",
       "    </tr>\n",
       "    <tr>\n",
       "      <th>168</th>\n",
       "      <td>Not Placed</td>\n",
       "    </tr>\n",
       "    <tr>\n",
       "      <th>169</th>\n",
       "      <td>Placed</td>\n",
       "    </tr>\n",
       "    <tr>\n",
       "      <th>170</th>\n",
       "      <td>Placed</td>\n",
       "    </tr>\n",
       "    <tr>\n",
       "      <th>171</th>\n",
       "      <td>Not Placed</td>\n",
       "    </tr>\n",
       "  </tbody>\n",
       "</table>\n",
       "<p>172 rows × 1 columns</p>\n",
       "</div>"
      ],
      "text/plain": [
       "         status\n",
       "0    Not Placed\n",
       "1        Placed\n",
       "2        Placed\n",
       "3        Placed\n",
       "4        Placed\n",
       "..          ...\n",
       "167      Placed\n",
       "168  Not Placed\n",
       "169      Placed\n",
       "170      Placed\n",
       "171  Not Placed\n",
       "\n",
       "[172 rows x 1 columns]"
      ]
     },
     "execution_count": 26,
     "metadata": {},
     "output_type": "execute_result"
    }
   ],
   "source": [
    "y_train"
   ]
  },
  {
   "cell_type": "markdown",
   "id": "a4d8e3f6",
   "metadata": {},
   "source": [
    "* Resetted indexes on y_train"
   ]
  },
  {
   "cell_type": "code",
   "execution_count": 27,
   "id": "cb686cc0",
   "metadata": {},
   "outputs": [],
   "source": [
    "ros = RandomOverSampler()\n",
    "x,y = ros.fit_resample(x_tc,y_train)"
   ]
  },
  {
   "cell_type": "markdown",
   "id": "55dd9865",
   "metadata": {},
   "source": [
    "* successfully balenced my data"
   ]
  },
  {
   "cell_type": "code",
   "execution_count": 28,
   "id": "594d4807",
   "metadata": {},
   "outputs": [],
   "source": [
    "x_train = pd.DataFrame(x)\n",
    "y_train = pd.DataFrame(y)"
   ]
  },
  {
   "cell_type": "markdown",
   "id": "2789ec1a",
   "metadata": {},
   "source": [
    "* these are the our final datasets"
   ]
  },
  {
   "cell_type": "code",
   "execution_count": 29,
   "id": "38b79d28",
   "metadata": {},
   "outputs": [
    {
     "data": {
      "text/html": [
       "<div>\n",
       "<style scoped>\n",
       "    .dataframe tbody tr th:only-of-type {\n",
       "        vertical-align: middle;\n",
       "    }\n",
       "\n",
       "    .dataframe tbody tr th {\n",
       "        vertical-align: top;\n",
       "    }\n",
       "\n",
       "    .dataframe thead th {\n",
       "        text-align: right;\n",
       "    }\n",
       "</style>\n",
       "<table border=\"1\" class=\"dataframe\">\n",
       "  <thead>\n",
       "    <tr style=\"text-align: right;\">\n",
       "      <th></th>\n",
       "      <th>ssc_p</th>\n",
       "      <th>hsc_p</th>\n",
       "      <th>degree_p</th>\n",
       "      <th>etest_p</th>\n",
       "      <th>mba_p</th>\n",
       "      <th>salary</th>\n",
       "      <th>x0_F</th>\n",
       "      <th>x0_M</th>\n",
       "      <th>x1_Central</th>\n",
       "      <th>x1_Others</th>\n",
       "      <th>...</th>\n",
       "      <th>x3_Arts</th>\n",
       "      <th>x3_Commerce</th>\n",
       "      <th>x3_Science</th>\n",
       "      <th>x4_Comm&amp;Mgmt</th>\n",
       "      <th>x4_Others</th>\n",
       "      <th>x4_Sci&amp;Tech</th>\n",
       "      <th>x5_No</th>\n",
       "      <th>x5_Yes</th>\n",
       "      <th>x6_Mkt&amp;Fin</th>\n",
       "      <th>x6_Mkt&amp;HR</th>\n",
       "    </tr>\n",
       "  </thead>\n",
       "  <tbody>\n",
       "    <tr>\n",
       "      <th>0</th>\n",
       "      <td>64.0</td>\n",
       "      <td>70.2</td>\n",
       "      <td>61.0</td>\n",
       "      <td>50.00</td>\n",
       "      <td>62.50</td>\n",
       "      <td>0.0</td>\n",
       "      <td>1.0</td>\n",
       "      <td>0.0</td>\n",
       "      <td>0.0</td>\n",
       "      <td>1.0</td>\n",
       "      <td>...</td>\n",
       "      <td>0.0</td>\n",
       "      <td>1.0</td>\n",
       "      <td>0.0</td>\n",
       "      <td>1.0</td>\n",
       "      <td>0.0</td>\n",
       "      <td>0.0</td>\n",
       "      <td>1.0</td>\n",
       "      <td>0.0</td>\n",
       "      <td>1.0</td>\n",
       "      <td>0.0</td>\n",
       "    </tr>\n",
       "    <tr>\n",
       "      <th>1</th>\n",
       "      <td>74.9</td>\n",
       "      <td>57.0</td>\n",
       "      <td>62.0</td>\n",
       "      <td>80.00</td>\n",
       "      <td>60.78</td>\n",
       "      <td>360000.0</td>\n",
       "      <td>1.0</td>\n",
       "      <td>0.0</td>\n",
       "      <td>0.0</td>\n",
       "      <td>1.0</td>\n",
       "      <td>...</td>\n",
       "      <td>0.0</td>\n",
       "      <td>0.0</td>\n",
       "      <td>1.0</td>\n",
       "      <td>0.0</td>\n",
       "      <td>1.0</td>\n",
       "      <td>0.0</td>\n",
       "      <td>0.0</td>\n",
       "      <td>1.0</td>\n",
       "      <td>1.0</td>\n",
       "      <td>0.0</td>\n",
       "    </tr>\n",
       "    <tr>\n",
       "      <th>2</th>\n",
       "      <td>67.0</td>\n",
       "      <td>68.0</td>\n",
       "      <td>64.0</td>\n",
       "      <td>74.40</td>\n",
       "      <td>53.49</td>\n",
       "      <td>300000.0</td>\n",
       "      <td>0.0</td>\n",
       "      <td>1.0</td>\n",
       "      <td>0.0</td>\n",
       "      <td>1.0</td>\n",
       "      <td>...</td>\n",
       "      <td>0.0</td>\n",
       "      <td>1.0</td>\n",
       "      <td>0.0</td>\n",
       "      <td>1.0</td>\n",
       "      <td>0.0</td>\n",
       "      <td>0.0</td>\n",
       "      <td>0.0</td>\n",
       "      <td>1.0</td>\n",
       "      <td>0.0</td>\n",
       "      <td>1.0</td>\n",
       "    </tr>\n",
       "    <tr>\n",
       "      <th>3</th>\n",
       "      <td>60.4</td>\n",
       "      <td>66.6</td>\n",
       "      <td>65.0</td>\n",
       "      <td>71.00</td>\n",
       "      <td>52.71</td>\n",
       "      <td>220000.0</td>\n",
       "      <td>0.0</td>\n",
       "      <td>1.0</td>\n",
       "      <td>1.0</td>\n",
       "      <td>0.0</td>\n",
       "      <td>...</td>\n",
       "      <td>0.0</td>\n",
       "      <td>0.0</td>\n",
       "      <td>1.0</td>\n",
       "      <td>1.0</td>\n",
       "      <td>0.0</td>\n",
       "      <td>0.0</td>\n",
       "      <td>1.0</td>\n",
       "      <td>0.0</td>\n",
       "      <td>0.0</td>\n",
       "      <td>1.0</td>\n",
       "    </tr>\n",
       "    <tr>\n",
       "      <th>4</th>\n",
       "      <td>73.0</td>\n",
       "      <td>79.0</td>\n",
       "      <td>72.0</td>\n",
       "      <td>91.34</td>\n",
       "      <td>61.29</td>\n",
       "      <td>231000.0</td>\n",
       "      <td>0.0</td>\n",
       "      <td>1.0</td>\n",
       "      <td>1.0</td>\n",
       "      <td>0.0</td>\n",
       "      <td>...</td>\n",
       "      <td>0.0</td>\n",
       "      <td>1.0</td>\n",
       "      <td>0.0</td>\n",
       "      <td>1.0</td>\n",
       "      <td>0.0</td>\n",
       "      <td>0.0</td>\n",
       "      <td>1.0</td>\n",
       "      <td>0.0</td>\n",
       "      <td>1.0</td>\n",
       "      <td>0.0</td>\n",
       "    </tr>\n",
       "  </tbody>\n",
       "</table>\n",
       "<p>5 rows × 22 columns</p>\n",
       "</div>"
      ],
      "text/plain": [
       "   ssc_p  hsc_p  degree_p  etest_p  mba_p    salary  x0_F  x0_M  x1_Central  \\\n",
       "0   64.0   70.2      61.0    50.00  62.50       0.0   1.0   0.0         0.0   \n",
       "1   74.9   57.0      62.0    80.00  60.78  360000.0   1.0   0.0         0.0   \n",
       "2   67.0   68.0      64.0    74.40  53.49  300000.0   0.0   1.0         0.0   \n",
       "3   60.4   66.6      65.0    71.00  52.71  220000.0   0.0   1.0         1.0   \n",
       "4   73.0   79.0      72.0    91.34  61.29  231000.0   0.0   1.0         1.0   \n",
       "\n",
       "   x1_Others  ...  x3_Arts  x3_Commerce  x3_Science  x4_Comm&Mgmt  x4_Others  \\\n",
       "0        1.0  ...      0.0          1.0         0.0           1.0        0.0   \n",
       "1        1.0  ...      0.0          0.0         1.0           0.0        1.0   \n",
       "2        1.0  ...      0.0          1.0         0.0           1.0        0.0   \n",
       "3        0.0  ...      0.0          0.0         1.0           1.0        0.0   \n",
       "4        0.0  ...      0.0          1.0         0.0           1.0        0.0   \n",
       "\n",
       "   x4_Sci&Tech  x5_No  x5_Yes  x6_Mkt&Fin  x6_Mkt&HR  \n",
       "0          0.0    1.0     0.0         1.0        0.0  \n",
       "1          0.0    0.0     1.0         1.0        0.0  \n",
       "2          0.0    0.0     1.0         0.0        1.0  \n",
       "3          0.0    1.0     0.0         0.0        1.0  \n",
       "4          0.0    1.0     0.0         1.0        0.0  \n",
       "\n",
       "[5 rows x 22 columns]"
      ]
     },
     "execution_count": 29,
     "metadata": {},
     "output_type": "execute_result"
    }
   ],
   "source": [
    "x_train.head()"
   ]
  },
  {
   "cell_type": "markdown",
   "id": "874f5845",
   "metadata": {},
   "source": [
    "## CREATING THE MODEL"
   ]
  },
  {
   "cell_type": "code",
   "execution_count": 30,
   "id": "dbd51ab9",
   "metadata": {},
   "outputs": [],
   "source": [
    "knn = KNeighborsClassifier(n_neighbors=5)\n",
    "model = knn.fit(x_train,y_train)"
   ]
  },
  {
   "cell_type": "code",
   "execution_count": 31,
   "id": "5881ee89",
   "metadata": {},
   "outputs": [],
   "source": [
    "gnb = GaussianNB()\n",
    "gmodel = gnb.fit(x_train,y_train)"
   ]
  },
  {
   "cell_type": "markdown",
   "id": "b77e2044",
   "metadata": {},
   "source": [
    "* succesfully created knn & Naive Bayes models"
   ]
  },
  {
   "cell_type": "markdown",
   "id": "25c52e04",
   "metadata": {},
   "source": [
    "## TEST THE MODEL"
   ]
  },
  {
   "cell_type": "markdown",
   "id": "3c386862",
   "metadata": {},
   "source": [
    "## ON KNN"
   ]
  },
  {
   "cell_type": "code",
   "execution_count": 32,
   "id": "7178c0cd",
   "metadata": {},
   "outputs": [],
   "source": [
    "x_test = x_test.reset_index(drop=True)"
   ]
  },
  {
   "cell_type": "code",
   "execution_count": 33,
   "id": "b492a5a0",
   "metadata": {},
   "outputs": [],
   "source": [
    "oh = ohe.transform(x_test[ob]).toarray()\n",
    "s = pd.DataFrame(oh)\n",
    "s1 = ohe.get_feature_names()\n",
    "x_test[s1] = s"
   ]
  },
  {
   "cell_type": "code",
   "execution_count": 34,
   "id": "431325c4",
   "metadata": {},
   "outputs": [
    {
     "data": {
      "text/html": [
       "<div>\n",
       "<style scoped>\n",
       "    .dataframe tbody tr th:only-of-type {\n",
       "        vertical-align: middle;\n",
       "    }\n",
       "\n",
       "    .dataframe tbody tr th {\n",
       "        vertical-align: top;\n",
       "    }\n",
       "\n",
       "    .dataframe thead th {\n",
       "        text-align: right;\n",
       "    }\n",
       "</style>\n",
       "<table border=\"1\" class=\"dataframe\">\n",
       "  <thead>\n",
       "    <tr style=\"text-align: right;\">\n",
       "      <th></th>\n",
       "      <th>gender</th>\n",
       "      <th>ssc_p</th>\n",
       "      <th>ssc_b</th>\n",
       "      <th>hsc_p</th>\n",
       "      <th>hsc_b</th>\n",
       "      <th>hsc_s</th>\n",
       "      <th>degree_p</th>\n",
       "      <th>degree_t</th>\n",
       "      <th>workex</th>\n",
       "      <th>etest_p</th>\n",
       "      <th>...</th>\n",
       "      <th>x3_Arts</th>\n",
       "      <th>x3_Commerce</th>\n",
       "      <th>x3_Science</th>\n",
       "      <th>x4_Comm&amp;Mgmt</th>\n",
       "      <th>x4_Others</th>\n",
       "      <th>x4_Sci&amp;Tech</th>\n",
       "      <th>x5_No</th>\n",
       "      <th>x5_Yes</th>\n",
       "      <th>x6_Mkt&amp;Fin</th>\n",
       "      <th>x6_Mkt&amp;HR</th>\n",
       "    </tr>\n",
       "  </thead>\n",
       "  <tbody>\n",
       "    <tr>\n",
       "      <th>0</th>\n",
       "      <td>F</td>\n",
       "      <td>43.0</td>\n",
       "      <td>Central</td>\n",
       "      <td>60.0</td>\n",
       "      <td>Others</td>\n",
       "      <td>Science</td>\n",
       "      <td>65.00</td>\n",
       "      <td>Comm&amp;Mgmt</td>\n",
       "      <td>No</td>\n",
       "      <td>92.66</td>\n",
       "      <td>...</td>\n",
       "      <td>0.0</td>\n",
       "      <td>0.0</td>\n",
       "      <td>1.0</td>\n",
       "      <td>1.0</td>\n",
       "      <td>0.0</td>\n",
       "      <td>0.0</td>\n",
       "      <td>1.0</td>\n",
       "      <td>0.0</td>\n",
       "      <td>0.0</td>\n",
       "      <td>1.0</td>\n",
       "    </tr>\n",
       "    <tr>\n",
       "      <th>1</th>\n",
       "      <td>F</td>\n",
       "      <td>69.0</td>\n",
       "      <td>Others</td>\n",
       "      <td>62.0</td>\n",
       "      <td>Others</td>\n",
       "      <td>Commerce</td>\n",
       "      <td>69.00</td>\n",
       "      <td>Comm&amp;Mgmt</td>\n",
       "      <td>Yes</td>\n",
       "      <td>67.00</td>\n",
       "      <td>...</td>\n",
       "      <td>0.0</td>\n",
       "      <td>1.0</td>\n",
       "      <td>0.0</td>\n",
       "      <td>1.0</td>\n",
       "      <td>0.0</td>\n",
       "      <td>0.0</td>\n",
       "      <td>0.0</td>\n",
       "      <td>1.0</td>\n",
       "      <td>0.0</td>\n",
       "      <td>1.0</td>\n",
       "    </tr>\n",
       "    <tr>\n",
       "      <th>2</th>\n",
       "      <td>M</td>\n",
       "      <td>84.2</td>\n",
       "      <td>Central</td>\n",
       "      <td>69.4</td>\n",
       "      <td>Central</td>\n",
       "      <td>Science</td>\n",
       "      <td>65.00</td>\n",
       "      <td>Sci&amp;Tech</td>\n",
       "      <td>Yes</td>\n",
       "      <td>80.00</td>\n",
       "      <td>...</td>\n",
       "      <td>0.0</td>\n",
       "      <td>0.0</td>\n",
       "      <td>1.0</td>\n",
       "      <td>0.0</td>\n",
       "      <td>0.0</td>\n",
       "      <td>1.0</td>\n",
       "      <td>0.0</td>\n",
       "      <td>1.0</td>\n",
       "      <td>0.0</td>\n",
       "      <td>1.0</td>\n",
       "    </tr>\n",
       "    <tr>\n",
       "      <th>3</th>\n",
       "      <td>M</td>\n",
       "      <td>65.0</td>\n",
       "      <td>Central</td>\n",
       "      <td>71.5</td>\n",
       "      <td>Others</td>\n",
       "      <td>Commerce</td>\n",
       "      <td>62.80</td>\n",
       "      <td>Comm&amp;Mgmt</td>\n",
       "      <td>Yes</td>\n",
       "      <td>57.00</td>\n",
       "      <td>...</td>\n",
       "      <td>0.0</td>\n",
       "      <td>1.0</td>\n",
       "      <td>0.0</td>\n",
       "      <td>1.0</td>\n",
       "      <td>0.0</td>\n",
       "      <td>0.0</td>\n",
       "      <td>0.0</td>\n",
       "      <td>1.0</td>\n",
       "      <td>1.0</td>\n",
       "      <td>0.0</td>\n",
       "    </tr>\n",
       "    <tr>\n",
       "      <th>4</th>\n",
       "      <td>M</td>\n",
       "      <td>55.0</td>\n",
       "      <td>Others</td>\n",
       "      <td>49.8</td>\n",
       "      <td>Others</td>\n",
       "      <td>Science</td>\n",
       "      <td>67.25</td>\n",
       "      <td>Sci&amp;Tech</td>\n",
       "      <td>Yes</td>\n",
       "      <td>55.00</td>\n",
       "      <td>...</td>\n",
       "      <td>0.0</td>\n",
       "      <td>0.0</td>\n",
       "      <td>1.0</td>\n",
       "      <td>0.0</td>\n",
       "      <td>0.0</td>\n",
       "      <td>1.0</td>\n",
       "      <td>0.0</td>\n",
       "      <td>1.0</td>\n",
       "      <td>1.0</td>\n",
       "      <td>0.0</td>\n",
       "    </tr>\n",
       "  </tbody>\n",
       "</table>\n",
       "<p>5 rows × 29 columns</p>\n",
       "</div>"
      ],
      "text/plain": [
       "  gender  ssc_p    ssc_b  hsc_p    hsc_b     hsc_s  degree_p   degree_t  \\\n",
       "0      F   43.0  Central   60.0   Others   Science     65.00  Comm&Mgmt   \n",
       "1      F   69.0   Others   62.0   Others  Commerce     69.00  Comm&Mgmt   \n",
       "2      M   84.2  Central   69.4  Central   Science     65.00   Sci&Tech   \n",
       "3      M   65.0  Central   71.5   Others  Commerce     62.80  Comm&Mgmt   \n",
       "4      M   55.0   Others   49.8   Others   Science     67.25   Sci&Tech   \n",
       "\n",
       "  workex  etest_p  ... x3_Arts  x3_Commerce  x3_Science  x4_Comm&Mgmt  \\\n",
       "0     No    92.66  ...     0.0          0.0         1.0           1.0   \n",
       "1    Yes    67.00  ...     0.0          1.0         0.0           1.0   \n",
       "2    Yes    80.00  ...     0.0          0.0         1.0           0.0   \n",
       "3    Yes    57.00  ...     0.0          1.0         0.0           1.0   \n",
       "4    Yes    55.00  ...     0.0          0.0         1.0           0.0   \n",
       "\n",
       "   x4_Others  x4_Sci&Tech  x5_No  x5_Yes  x6_Mkt&Fin  x6_Mkt&HR  \n",
       "0        0.0          0.0    1.0     0.0         0.0        1.0  \n",
       "1        0.0          0.0    0.0     1.0         0.0        1.0  \n",
       "2        0.0          1.0    0.0     1.0         0.0        1.0  \n",
       "3        0.0          0.0    0.0     1.0         1.0        0.0  \n",
       "4        0.0          1.0    0.0     1.0         1.0        0.0  \n",
       "\n",
       "[5 rows x 29 columns]"
      ]
     },
     "execution_count": 34,
     "metadata": {},
     "output_type": "execute_result"
    }
   ],
   "source": [
    "x_test.head()"
   ]
  },
  {
   "cell_type": "markdown",
   "id": "7c08cefc",
   "metadata": {},
   "source": [
    "* onehotencoder applied dataset "
   ]
  },
  {
   "cell_type": "markdown",
   "id": "7726ab5a",
   "metadata": {},
   "source": [
    "* from this dataset we need to drop object columns"
   ]
  },
  {
   "cell_type": "code",
   "execution_count": 35,
   "id": "d864afff",
   "metadata": {},
   "outputs": [],
   "source": [
    "x_test = x_test.drop(ob,axis=1)"
   ]
  },
  {
   "cell_type": "code",
   "execution_count": 36,
   "id": "1ecb9f6a",
   "metadata": {},
   "outputs": [],
   "source": [
    "x_test['salary'] = x_test['salary'].fillna(0)"
   ]
  },
  {
   "cell_type": "code",
   "execution_count": 37,
   "id": "d0097748",
   "metadata": {},
   "outputs": [
    {
     "data": {
      "text/html": [
       "<div>\n",
       "<style scoped>\n",
       "    .dataframe tbody tr th:only-of-type {\n",
       "        vertical-align: middle;\n",
       "    }\n",
       "\n",
       "    .dataframe tbody tr th {\n",
       "        vertical-align: top;\n",
       "    }\n",
       "\n",
       "    .dataframe thead th {\n",
       "        text-align: right;\n",
       "    }\n",
       "</style>\n",
       "<table border=\"1\" class=\"dataframe\">\n",
       "  <thead>\n",
       "    <tr style=\"text-align: right;\">\n",
       "      <th></th>\n",
       "      <th>ssc_p</th>\n",
       "      <th>hsc_p</th>\n",
       "      <th>degree_p</th>\n",
       "      <th>etest_p</th>\n",
       "      <th>mba_p</th>\n",
       "      <th>salary</th>\n",
       "      <th>x0_F</th>\n",
       "      <th>x0_M</th>\n",
       "      <th>x1_Central</th>\n",
       "      <th>x1_Others</th>\n",
       "      <th>...</th>\n",
       "      <th>x3_Arts</th>\n",
       "      <th>x3_Commerce</th>\n",
       "      <th>x3_Science</th>\n",
       "      <th>x4_Comm&amp;Mgmt</th>\n",
       "      <th>x4_Others</th>\n",
       "      <th>x4_Sci&amp;Tech</th>\n",
       "      <th>x5_No</th>\n",
       "      <th>x5_Yes</th>\n",
       "      <th>x6_Mkt&amp;Fin</th>\n",
       "      <th>x6_Mkt&amp;HR</th>\n",
       "    </tr>\n",
       "  </thead>\n",
       "  <tbody>\n",
       "    <tr>\n",
       "      <th>0</th>\n",
       "      <td>43.0</td>\n",
       "      <td>60.0</td>\n",
       "      <td>65.00</td>\n",
       "      <td>92.66</td>\n",
       "      <td>62.92</td>\n",
       "      <td>0.0</td>\n",
       "      <td>1.0</td>\n",
       "      <td>0.0</td>\n",
       "      <td>1.0</td>\n",
       "      <td>0.0</td>\n",
       "      <td>...</td>\n",
       "      <td>0.0</td>\n",
       "      <td>0.0</td>\n",
       "      <td>1.0</td>\n",
       "      <td>1.0</td>\n",
       "      <td>0.0</td>\n",
       "      <td>0.0</td>\n",
       "      <td>1.0</td>\n",
       "      <td>0.0</td>\n",
       "      <td>0.0</td>\n",
       "      <td>1.0</td>\n",
       "    </tr>\n",
       "    <tr>\n",
       "      <th>1</th>\n",
       "      <td>69.0</td>\n",
       "      <td>62.0</td>\n",
       "      <td>69.00</td>\n",
       "      <td>67.00</td>\n",
       "      <td>62.35</td>\n",
       "      <td>240000.0</td>\n",
       "      <td>1.0</td>\n",
       "      <td>0.0</td>\n",
       "      <td>0.0</td>\n",
       "      <td>1.0</td>\n",
       "      <td>...</td>\n",
       "      <td>0.0</td>\n",
       "      <td>1.0</td>\n",
       "      <td>0.0</td>\n",
       "      <td>1.0</td>\n",
       "      <td>0.0</td>\n",
       "      <td>0.0</td>\n",
       "      <td>0.0</td>\n",
       "      <td>1.0</td>\n",
       "      <td>0.0</td>\n",
       "      <td>1.0</td>\n",
       "    </tr>\n",
       "    <tr>\n",
       "      <th>2</th>\n",
       "      <td>84.2</td>\n",
       "      <td>69.4</td>\n",
       "      <td>65.00</td>\n",
       "      <td>80.00</td>\n",
       "      <td>52.72</td>\n",
       "      <td>255000.0</td>\n",
       "      <td>0.0</td>\n",
       "      <td>1.0</td>\n",
       "      <td>1.0</td>\n",
       "      <td>0.0</td>\n",
       "      <td>...</td>\n",
       "      <td>0.0</td>\n",
       "      <td>0.0</td>\n",
       "      <td>1.0</td>\n",
       "      <td>0.0</td>\n",
       "      <td>0.0</td>\n",
       "      <td>1.0</td>\n",
       "      <td>0.0</td>\n",
       "      <td>1.0</td>\n",
       "      <td>0.0</td>\n",
       "      <td>1.0</td>\n",
       "    </tr>\n",
       "    <tr>\n",
       "      <th>3</th>\n",
       "      <td>65.0</td>\n",
       "      <td>71.5</td>\n",
       "      <td>62.80</td>\n",
       "      <td>57.00</td>\n",
       "      <td>56.60</td>\n",
       "      <td>265000.0</td>\n",
       "      <td>0.0</td>\n",
       "      <td>1.0</td>\n",
       "      <td>1.0</td>\n",
       "      <td>0.0</td>\n",
       "      <td>...</td>\n",
       "      <td>0.0</td>\n",
       "      <td>1.0</td>\n",
       "      <td>0.0</td>\n",
       "      <td>1.0</td>\n",
       "      <td>0.0</td>\n",
       "      <td>0.0</td>\n",
       "      <td>0.0</td>\n",
       "      <td>1.0</td>\n",
       "      <td>1.0</td>\n",
       "      <td>0.0</td>\n",
       "    </tr>\n",
       "    <tr>\n",
       "      <th>4</th>\n",
       "      <td>55.0</td>\n",
       "      <td>49.8</td>\n",
       "      <td>67.25</td>\n",
       "      <td>55.00</td>\n",
       "      <td>51.58</td>\n",
       "      <td>0.0</td>\n",
       "      <td>0.0</td>\n",
       "      <td>1.0</td>\n",
       "      <td>0.0</td>\n",
       "      <td>1.0</td>\n",
       "      <td>...</td>\n",
       "      <td>0.0</td>\n",
       "      <td>0.0</td>\n",
       "      <td>1.0</td>\n",
       "      <td>0.0</td>\n",
       "      <td>0.0</td>\n",
       "      <td>1.0</td>\n",
       "      <td>0.0</td>\n",
       "      <td>1.0</td>\n",
       "      <td>1.0</td>\n",
       "      <td>0.0</td>\n",
       "    </tr>\n",
       "  </tbody>\n",
       "</table>\n",
       "<p>5 rows × 22 columns</p>\n",
       "</div>"
      ],
      "text/plain": [
       "   ssc_p  hsc_p  degree_p  etest_p  mba_p    salary  x0_F  x0_M  x1_Central  \\\n",
       "0   43.0   60.0     65.00    92.66  62.92       0.0   1.0   0.0         1.0   \n",
       "1   69.0   62.0     69.00    67.00  62.35  240000.0   1.0   0.0         0.0   \n",
       "2   84.2   69.4     65.00    80.00  52.72  255000.0   0.0   1.0         1.0   \n",
       "3   65.0   71.5     62.80    57.00  56.60  265000.0   0.0   1.0         1.0   \n",
       "4   55.0   49.8     67.25    55.00  51.58       0.0   0.0   1.0         0.0   \n",
       "\n",
       "   x1_Others  ...  x3_Arts  x3_Commerce  x3_Science  x4_Comm&Mgmt  x4_Others  \\\n",
       "0        0.0  ...      0.0          0.0         1.0           1.0        0.0   \n",
       "1        1.0  ...      0.0          1.0         0.0           1.0        0.0   \n",
       "2        0.0  ...      0.0          0.0         1.0           0.0        0.0   \n",
       "3        0.0  ...      0.0          1.0         0.0           1.0        0.0   \n",
       "4        1.0  ...      0.0          0.0         1.0           0.0        0.0   \n",
       "\n",
       "   x4_Sci&Tech  x5_No  x5_Yes  x6_Mkt&Fin  x6_Mkt&HR  \n",
       "0          0.0    1.0     0.0         0.0        1.0  \n",
       "1          0.0    0.0     1.0         0.0        1.0  \n",
       "2          1.0    0.0     1.0         0.0        1.0  \n",
       "3          0.0    0.0     1.0         1.0        0.0  \n",
       "4          1.0    0.0     1.0         1.0        0.0  \n",
       "\n",
       "[5 rows x 22 columns]"
      ]
     },
     "execution_count": 37,
     "metadata": {},
     "output_type": "execute_result"
    }
   ],
   "source": [
    "x_test.head()"
   ]
  },
  {
   "cell_type": "markdown",
   "id": "f3b2d5f8",
   "metadata": {},
   "source": [
    "## ON KNN ACCURACY SCORE"
   ]
  },
  {
   "cell_type": "code",
   "execution_count": 38,
   "id": "e66dabf4",
   "metadata": {},
   "outputs": [
    {
     "data": {
      "text/plain": [
       "1.0"
      ]
     },
     "execution_count": 38,
     "metadata": {},
     "output_type": "execute_result"
    }
   ],
   "source": [
    "pridcted = model.predict(x_test)\n",
    "accuracy_score(pridcted,y_test)"
   ]
  },
  {
   "cell_type": "markdown",
   "id": "dec44aed",
   "metadata": {},
   "source": [
    "## ON NAIVEBAYES ACCURACY SCORE"
   ]
  },
  {
   "cell_type": "code",
   "execution_count": 39,
   "id": "36ce7c2a",
   "metadata": {},
   "outputs": [
    {
     "data": {
      "text/plain": [
       "1.0"
      ]
     },
     "execution_count": 39,
     "metadata": {},
     "output_type": "execute_result"
    }
   ],
   "source": [
    "pridicting = gmodel.predict(x_test)\n",
    "accuracy_score(pridicting,y_test)"
   ]
  },
  {
   "cell_type": "markdown",
   "id": "41aba2ce",
   "metadata": {},
   "source": [
    "## SAVING THE FINAL MODEL"
   ]
  },
  {
   "cell_type": "code",
   "execution_count": 40,
   "id": "8a149873",
   "metadata": {},
   "outputs": [],
   "source": [
    "import joblib"
   ]
  },
  {
   "cell_type": "code",
   "execution_count": 41,
   "id": "5d3b7da0",
   "metadata": {},
   "outputs": [
    {
     "data": {
      "text/plain": [
       "['final.joblib']"
      ]
     },
     "execution_count": 41,
     "metadata": {},
     "output_type": "execute_result"
    }
   ],
   "source": [
    "joblib.dump(model,\"final.joblib\")"
   ]
  },
  {
   "cell_type": "code",
   "execution_count": 42,
   "id": "c87a995e",
   "metadata": {},
   "outputs": [
    {
     "data": {
      "text/plain": [
       "['f1.joblib']"
      ]
     },
     "execution_count": 42,
     "metadata": {},
     "output_type": "execute_result"
    }
   ],
   "source": [
    "joblib.dump(gmodel,\"f1.joblib\")"
   ]
  },
  {
   "cell_type": "code",
   "execution_count": 43,
   "id": "42946ef6",
   "metadata": {},
   "outputs": [],
   "source": [
    "knn = joblib.load(\"final.joblib\")\n",
    "gn = joblib.load(\"f1.joblib\")"
   ]
  },
  {
   "cell_type": "markdown",
   "id": "3b13f778",
   "metadata": {},
   "source": [
    "## TEST WITH UNSEEN DATA"
   ]
  },
  {
   "cell_type": "code",
   "execution_count": 44,
   "id": "f7b6889e",
   "metadata": {},
   "outputs": [],
   "source": [
    "my_dict = {'gender':\"M\",'ssc_p':55.06,\"ssc_b\":\"Others\",\"hsc_p\":90.04,\"hsc_b\":\"Central\",\"hsc_s\":\"Science\",\"degree_p\":54.09,\"degree_t\":\"Sci&Tech\",\"workex\":\"Yes\",\"etest_p\":67.59,\"specialisation\":\"Mkt&HR\",\"mba_p\":67.04,\"salary\":287654.00}\n",
    "s = pd.DataFrame([my_dict])"
   ]
  },
  {
   "cell_type": "code",
   "execution_count": 45,
   "id": "e7533518",
   "metadata": {},
   "outputs": [],
   "source": [
    "s5 = s.copy()"
   ]
  },
  {
   "cell_type": "markdown",
   "id": "934534f1",
   "metadata": {},
   "source": [
    "## APPPLYINNG ONE HOT ENCODER ON UNSEEN DATA"
   ]
  },
  {
   "cell_type": "code",
   "execution_count": 46,
   "id": "120b22a4",
   "metadata": {},
   "outputs": [],
   "source": [
    "d = ohe.transform(s[ob]).toarray()"
   ]
  },
  {
   "cell_type": "code",
   "execution_count": 47,
   "id": "cb3666c5",
   "metadata": {},
   "outputs": [],
   "source": [
    "d1 = ohe.get_feature_names()"
   ]
  },
  {
   "cell_type": "code",
   "execution_count": 48,
   "id": "73abd343",
   "metadata": {},
   "outputs": [],
   "source": [
    "d2 = pd.DataFrame(d)"
   ]
  },
  {
   "cell_type": "code",
   "execution_count": 49,
   "id": "d59f1f5a",
   "metadata": {},
   "outputs": [],
   "source": [
    "s[d1] = d2"
   ]
  },
  {
   "cell_type": "code",
   "execution_count": 50,
   "id": "916c34d4",
   "metadata": {},
   "outputs": [],
   "source": [
    "s = s.drop(ob,axis=1)"
   ]
  },
  {
   "cell_type": "markdown",
   "id": "ca40707b",
   "metadata": {},
   "source": [
    "## FOR CLASS - 1 ON UNSEEN DATA"
   ]
  },
  {
   "cell_type": "code",
   "execution_count": 51,
   "id": "80c4e01c",
   "metadata": {},
   "outputs": [
    {
     "data": {
      "text/html": [
       "<div>\n",
       "<style scoped>\n",
       "    .dataframe tbody tr th:only-of-type {\n",
       "        vertical-align: middle;\n",
       "    }\n",
       "\n",
       "    .dataframe tbody tr th {\n",
       "        vertical-align: top;\n",
       "    }\n",
       "\n",
       "    .dataframe thead th {\n",
       "        text-align: right;\n",
       "    }\n",
       "</style>\n",
       "<table border=\"1\" class=\"dataframe\">\n",
       "  <thead>\n",
       "    <tr style=\"text-align: right;\">\n",
       "      <th></th>\n",
       "      <th>ssc_p</th>\n",
       "      <th>hsc_p</th>\n",
       "      <th>degree_p</th>\n",
       "      <th>etest_p</th>\n",
       "      <th>mba_p</th>\n",
       "      <th>salary</th>\n",
       "      <th>x0_F</th>\n",
       "      <th>x0_M</th>\n",
       "      <th>x1_Central</th>\n",
       "      <th>x1_Others</th>\n",
       "      <th>...</th>\n",
       "      <th>x3_Arts</th>\n",
       "      <th>x3_Commerce</th>\n",
       "      <th>x3_Science</th>\n",
       "      <th>x4_Comm&amp;Mgmt</th>\n",
       "      <th>x4_Others</th>\n",
       "      <th>x4_Sci&amp;Tech</th>\n",
       "      <th>x5_No</th>\n",
       "      <th>x5_Yes</th>\n",
       "      <th>x6_Mkt&amp;Fin</th>\n",
       "      <th>x6_Mkt&amp;HR</th>\n",
       "    </tr>\n",
       "  </thead>\n",
       "  <tbody>\n",
       "    <tr>\n",
       "      <th>0</th>\n",
       "      <td>55.06</td>\n",
       "      <td>90.04</td>\n",
       "      <td>54.09</td>\n",
       "      <td>67.59</td>\n",
       "      <td>67.04</td>\n",
       "      <td>287654.0</td>\n",
       "      <td>0.0</td>\n",
       "      <td>1.0</td>\n",
       "      <td>0.0</td>\n",
       "      <td>1.0</td>\n",
       "      <td>...</td>\n",
       "      <td>0.0</td>\n",
       "      <td>0.0</td>\n",
       "      <td>1.0</td>\n",
       "      <td>0.0</td>\n",
       "      <td>0.0</td>\n",
       "      <td>1.0</td>\n",
       "      <td>0.0</td>\n",
       "      <td>1.0</td>\n",
       "      <td>0.0</td>\n",
       "      <td>1.0</td>\n",
       "    </tr>\n",
       "  </tbody>\n",
       "</table>\n",
       "<p>1 rows × 22 columns</p>\n",
       "</div>"
      ],
      "text/plain": [
       "   ssc_p  hsc_p  degree_p  etest_p  mba_p    salary  x0_F  x0_M  x1_Central  \\\n",
       "0  55.06  90.04     54.09    67.59  67.04  287654.0   0.0   1.0         0.0   \n",
       "\n",
       "   x1_Others  ...  x3_Arts  x3_Commerce  x3_Science  x4_Comm&Mgmt  x4_Others  \\\n",
       "0        1.0  ...      0.0          0.0         1.0           0.0        0.0   \n",
       "\n",
       "   x4_Sci&Tech  x5_No  x5_Yes  x6_Mkt&Fin  x6_Mkt&HR  \n",
       "0          1.0    0.0     1.0         0.0        1.0  \n",
       "\n",
       "[1 rows x 22 columns]"
      ]
     },
     "execution_count": 51,
     "metadata": {},
     "output_type": "execute_result"
    }
   ],
   "source": [
    "s.loc[[0]]"
   ]
  },
  {
   "cell_type": "code",
   "execution_count": 52,
   "id": "10ec4a67",
   "metadata": {},
   "outputs": [
    {
     "data": {
      "text/plain": [
       "array(['Placed'], dtype=object)"
      ]
     },
     "execution_count": 52,
     "metadata": {},
     "output_type": "execute_result"
    }
   ],
   "source": [
    "knn.predict(s.loc[[0]])"
   ]
  },
  {
   "cell_type": "code",
   "execution_count": 53,
   "id": "bcf1d8b7",
   "metadata": {},
   "outputs": [
    {
     "data": {
      "text/plain": [
       "array(['Placed'], dtype='<U10')"
      ]
     },
     "execution_count": 53,
     "metadata": {},
     "output_type": "execute_result"
    }
   ],
   "source": [
    "gn.predict(s.loc[[0]])"
   ]
  },
  {
   "cell_type": "code",
   "execution_count": 54,
   "id": "f3b623e3",
   "metadata": {},
   "outputs": [
    {
     "data": {
      "text/html": [
       "<div>\n",
       "<style scoped>\n",
       "    .dataframe tbody tr th:only-of-type {\n",
       "        vertical-align: middle;\n",
       "    }\n",
       "\n",
       "    .dataframe tbody tr th {\n",
       "        vertical-align: top;\n",
       "    }\n",
       "\n",
       "    .dataframe thead th {\n",
       "        text-align: right;\n",
       "    }\n",
       "</style>\n",
       "<table border=\"1\" class=\"dataframe\">\n",
       "  <thead>\n",
       "    <tr style=\"text-align: right;\">\n",
       "      <th></th>\n",
       "      <th>ssc_p</th>\n",
       "      <th>hsc_p</th>\n",
       "      <th>degree_p</th>\n",
       "      <th>etest_p</th>\n",
       "      <th>mba_p</th>\n",
       "      <th>salary</th>\n",
       "      <th>x0_F</th>\n",
       "      <th>x0_M</th>\n",
       "      <th>x1_Central</th>\n",
       "      <th>x1_Others</th>\n",
       "      <th>...</th>\n",
       "      <th>x3_Arts</th>\n",
       "      <th>x3_Commerce</th>\n",
       "      <th>x3_Science</th>\n",
       "      <th>x4_Comm&amp;Mgmt</th>\n",
       "      <th>x4_Others</th>\n",
       "      <th>x4_Sci&amp;Tech</th>\n",
       "      <th>x5_No</th>\n",
       "      <th>x5_Yes</th>\n",
       "      <th>x6_Mkt&amp;Fin</th>\n",
       "      <th>x6_Mkt&amp;HR</th>\n",
       "    </tr>\n",
       "  </thead>\n",
       "  <tbody>\n",
       "    <tr>\n",
       "      <th>0</th>\n",
       "      <td>43.0</td>\n",
       "      <td>60.0</td>\n",
       "      <td>65.0</td>\n",
       "      <td>92.66</td>\n",
       "      <td>62.92</td>\n",
       "      <td>0.0</td>\n",
       "      <td>1.0</td>\n",
       "      <td>0.0</td>\n",
       "      <td>1.0</td>\n",
       "      <td>0.0</td>\n",
       "      <td>...</td>\n",
       "      <td>0.0</td>\n",
       "      <td>0.0</td>\n",
       "      <td>1.0</td>\n",
       "      <td>1.0</td>\n",
       "      <td>0.0</td>\n",
       "      <td>0.0</td>\n",
       "      <td>1.0</td>\n",
       "      <td>0.0</td>\n",
       "      <td>0.0</td>\n",
       "      <td>1.0</td>\n",
       "    </tr>\n",
       "  </tbody>\n",
       "</table>\n",
       "<p>1 rows × 22 columns</p>\n",
       "</div>"
      ],
      "text/plain": [
       "   ssc_p  hsc_p  degree_p  etest_p  mba_p  salary  x0_F  x0_M  x1_Central  \\\n",
       "0   43.0   60.0      65.0    92.66  62.92     0.0   1.0   0.0         1.0   \n",
       "\n",
       "   x1_Others  ...  x3_Arts  x3_Commerce  x3_Science  x4_Comm&Mgmt  x4_Others  \\\n",
       "0        0.0  ...      0.0          0.0         1.0           1.0        0.0   \n",
       "\n",
       "   x4_Sci&Tech  x5_No  x5_Yes  x6_Mkt&Fin  x6_Mkt&HR  \n",
       "0          0.0    1.0     0.0         0.0        1.0  \n",
       "\n",
       "[1 rows x 22 columns]"
      ]
     },
     "execution_count": 54,
     "metadata": {},
     "output_type": "execute_result"
    }
   ],
   "source": [
    "x_test.loc[[0]]"
   ]
  },
  {
   "cell_type": "markdown",
   "id": "2aed38f6",
   "metadata": {},
   "source": [
    "## FOR CLASS - 2"
   ]
  },
  {
   "cell_type": "code",
   "execution_count": 55,
   "id": "a662c3e6",
   "metadata": {},
   "outputs": [
    {
     "data": {
      "text/plain": [
       "array(['Not Placed'], dtype=object)"
      ]
     },
     "execution_count": 55,
     "metadata": {},
     "output_type": "execute_result"
    }
   ],
   "source": [
    "knn.predict(x_test.loc[[0]])"
   ]
  },
  {
   "cell_type": "code",
   "execution_count": 56,
   "id": "16aae4f8",
   "metadata": {},
   "outputs": [
    {
     "data": {
      "text/plain": [
       "array(['Not Placed'], dtype='<U10')"
      ]
     },
     "execution_count": 56,
     "metadata": {},
     "output_type": "execute_result"
    }
   ],
   "source": [
    "gn.predict(x_test.loc[[0]])"
   ]
  },
  {
   "cell_type": "markdown",
   "id": "1ae4a124",
   "metadata": {},
   "source": [
    "## FOR CLASS - 2 ON UNSEEN DATA"
   ]
  },
  {
   "cell_type": "code",
   "execution_count": 57,
   "id": "25d6124a",
   "metadata": {},
   "outputs": [],
   "source": [
    "s5['salary'] = s5['salary'].replace(287654.0,0.0)"
   ]
  },
  {
   "cell_type": "code",
   "execution_count": 58,
   "id": "cf989bca",
   "metadata": {},
   "outputs": [
    {
     "data": {
      "text/html": [
       "<div>\n",
       "<style scoped>\n",
       "    .dataframe tbody tr th:only-of-type {\n",
       "        vertical-align: middle;\n",
       "    }\n",
       "\n",
       "    .dataframe tbody tr th {\n",
       "        vertical-align: top;\n",
       "    }\n",
       "\n",
       "    .dataframe thead th {\n",
       "        text-align: right;\n",
       "    }\n",
       "</style>\n",
       "<table border=\"1\" class=\"dataframe\">\n",
       "  <thead>\n",
       "    <tr style=\"text-align: right;\">\n",
       "      <th></th>\n",
       "      <th>gender</th>\n",
       "      <th>ssc_p</th>\n",
       "      <th>ssc_b</th>\n",
       "      <th>hsc_p</th>\n",
       "      <th>hsc_b</th>\n",
       "      <th>hsc_s</th>\n",
       "      <th>degree_p</th>\n",
       "      <th>degree_t</th>\n",
       "      <th>workex</th>\n",
       "      <th>etest_p</th>\n",
       "      <th>specialisation</th>\n",
       "      <th>mba_p</th>\n",
       "      <th>salary</th>\n",
       "    </tr>\n",
       "  </thead>\n",
       "  <tbody>\n",
       "    <tr>\n",
       "      <th>0</th>\n",
       "      <td>M</td>\n",
       "      <td>55.06</td>\n",
       "      <td>Others</td>\n",
       "      <td>90.04</td>\n",
       "      <td>Central</td>\n",
       "      <td>Science</td>\n",
       "      <td>54.09</td>\n",
       "      <td>Sci&amp;Tech</td>\n",
       "      <td>Yes</td>\n",
       "      <td>67.59</td>\n",
       "      <td>Mkt&amp;HR</td>\n",
       "      <td>67.04</td>\n",
       "      <td>0.0</td>\n",
       "    </tr>\n",
       "  </tbody>\n",
       "</table>\n",
       "</div>"
      ],
      "text/plain": [
       "  gender  ssc_p   ssc_b  hsc_p    hsc_b    hsc_s  degree_p  degree_t workex  \\\n",
       "0      M  55.06  Others  90.04  Central  Science     54.09  Sci&Tech    Yes   \n",
       "\n",
       "   etest_p specialisation  mba_p  salary  \n",
       "0    67.59         Mkt&HR  67.04     0.0  "
      ]
     },
     "execution_count": 58,
     "metadata": {},
     "output_type": "execute_result"
    }
   ],
   "source": [
    "s5"
   ]
  },
  {
   "cell_type": "code",
   "execution_count": 59,
   "id": "c9f0b26b",
   "metadata": {},
   "outputs": [],
   "source": [
    "d2 = ohe.transform(s5[ob]).toarray()\n",
    "d3 = ohe.get_feature_names()\n",
    "s5[d3] = d2\n",
    "s5 = s5.drop(ob,axis=1)"
   ]
  },
  {
   "cell_type": "code",
   "execution_count": 60,
   "id": "929b1e09",
   "metadata": {},
   "outputs": [
    {
     "data": {
      "text/html": [
       "<div>\n",
       "<style scoped>\n",
       "    .dataframe tbody tr th:only-of-type {\n",
       "        vertical-align: middle;\n",
       "    }\n",
       "\n",
       "    .dataframe tbody tr th {\n",
       "        vertical-align: top;\n",
       "    }\n",
       "\n",
       "    .dataframe thead th {\n",
       "        text-align: right;\n",
       "    }\n",
       "</style>\n",
       "<table border=\"1\" class=\"dataframe\">\n",
       "  <thead>\n",
       "    <tr style=\"text-align: right;\">\n",
       "      <th></th>\n",
       "      <th>ssc_p</th>\n",
       "      <th>hsc_p</th>\n",
       "      <th>degree_p</th>\n",
       "      <th>etest_p</th>\n",
       "      <th>mba_p</th>\n",
       "      <th>salary</th>\n",
       "      <th>x0_F</th>\n",
       "      <th>x0_M</th>\n",
       "      <th>x1_Central</th>\n",
       "      <th>x1_Others</th>\n",
       "      <th>...</th>\n",
       "      <th>x3_Arts</th>\n",
       "      <th>x3_Commerce</th>\n",
       "      <th>x3_Science</th>\n",
       "      <th>x4_Comm&amp;Mgmt</th>\n",
       "      <th>x4_Others</th>\n",
       "      <th>x4_Sci&amp;Tech</th>\n",
       "      <th>x5_No</th>\n",
       "      <th>x5_Yes</th>\n",
       "      <th>x6_Mkt&amp;Fin</th>\n",
       "      <th>x6_Mkt&amp;HR</th>\n",
       "    </tr>\n",
       "  </thead>\n",
       "  <tbody>\n",
       "    <tr>\n",
       "      <th>0</th>\n",
       "      <td>55.06</td>\n",
       "      <td>90.04</td>\n",
       "      <td>54.09</td>\n",
       "      <td>67.59</td>\n",
       "      <td>67.04</td>\n",
       "      <td>0.0</td>\n",
       "      <td>0.0</td>\n",
       "      <td>1.0</td>\n",
       "      <td>0.0</td>\n",
       "      <td>1.0</td>\n",
       "      <td>...</td>\n",
       "      <td>0.0</td>\n",
       "      <td>0.0</td>\n",
       "      <td>1.0</td>\n",
       "      <td>0.0</td>\n",
       "      <td>0.0</td>\n",
       "      <td>1.0</td>\n",
       "      <td>0.0</td>\n",
       "      <td>1.0</td>\n",
       "      <td>0.0</td>\n",
       "      <td>1.0</td>\n",
       "    </tr>\n",
       "  </tbody>\n",
       "</table>\n",
       "<p>1 rows × 22 columns</p>\n",
       "</div>"
      ],
      "text/plain": [
       "   ssc_p  hsc_p  degree_p  etest_p  mba_p  salary  x0_F  x0_M  x1_Central  \\\n",
       "0  55.06  90.04     54.09    67.59  67.04     0.0   0.0   1.0         0.0   \n",
       "\n",
       "   x1_Others  ...  x3_Arts  x3_Commerce  x3_Science  x4_Comm&Mgmt  x4_Others  \\\n",
       "0        1.0  ...      0.0          0.0         1.0           0.0        0.0   \n",
       "\n",
       "   x4_Sci&Tech  x5_No  x5_Yes  x6_Mkt&Fin  x6_Mkt&HR  \n",
       "0          1.0    0.0     1.0         0.0        1.0  \n",
       "\n",
       "[1 rows x 22 columns]"
      ]
     },
     "execution_count": 60,
     "metadata": {},
     "output_type": "execute_result"
    }
   ],
   "source": [
    "s5"
   ]
  },
  {
   "cell_type": "code",
   "execution_count": 61,
   "id": "0ae7a674",
   "metadata": {},
   "outputs": [
    {
     "data": {
      "text/plain": [
       "array(['Not Placed'], dtype=object)"
      ]
     },
     "execution_count": 61,
     "metadata": {},
     "output_type": "execute_result"
    }
   ],
   "source": [
    "knn.predict(s5.loc[[0]])"
   ]
  },
  {
   "cell_type": "code",
   "execution_count": 62,
   "id": "4c571024",
   "metadata": {},
   "outputs": [
    {
     "data": {
      "text/plain": [
       "array(['Not Placed'], dtype='<U10')"
      ]
     },
     "execution_count": 62,
     "metadata": {},
     "output_type": "execute_result"
    }
   ],
   "source": [
    "gn.predict(s5.loc[[0]])"
   ]
  },
  {
   "cell_type": "code",
   "execution_count": 63,
   "id": "b5dc63d9",
   "metadata": {},
   "outputs": [
    {
     "data": {
      "text/plain": [
       "['C:\\\\Users\\\\HP\\\\Downloads\\\\MACHINE LEARNING SECIAL\\\\placement.joblib']"
      ]
     },
     "execution_count": 63,
     "metadata": {},
     "output_type": "execute_result"
    }
   ],
   "source": [
    "joblib.dump(model,r\"C:\\Users\\HP\\Downloads\\MACHINE LEARNING SECIAL\\placement.joblib\")"
   ]
  },
  {
   "cell_type": "code",
   "execution_count": 64,
   "id": "7809ce97",
   "metadata": {},
   "outputs": [
    {
     "data": {
      "text/plain": [
       "['C:\\\\Users\\\\HP\\\\Downloads\\\\MACHINE LEARNING SECIAL\\\\ohe.joblib']"
      ]
     },
     "execution_count": 64,
     "metadata": {},
     "output_type": "execute_result"
    }
   ],
   "source": [
    "joblib.dump(ohe,r\"C:\\Users\\HP\\Downloads\\MACHINE LEARNING SECIAL\\ohe.joblib\")"
   ]
  },
  {
   "cell_type": "code",
   "execution_count": null,
   "id": "d62ed29b",
   "metadata": {},
   "outputs": [],
   "source": []
  }
 ],
 "metadata": {
  "kernelspec": {
   "display_name": "Python 3 (ipykernel)",
   "language": "python",
   "name": "python3"
  },
  "language_info": {
   "codemirror_mode": {
    "name": "ipython",
    "version": 3
   },
   "file_extension": ".py",
   "mimetype": "text/x-python",
   "name": "python",
   "nbconvert_exporter": "python",
   "pygments_lexer": "ipython3",
   "version": "3.9.12"
  }
 },
 "nbformat": 4,
 "nbformat_minor": 5
}
